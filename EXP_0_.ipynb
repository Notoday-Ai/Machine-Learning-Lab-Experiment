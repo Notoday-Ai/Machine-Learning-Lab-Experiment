{
  "cells": [
    {
      "cell_type": "markdown",
      "source": [
        "\n",
        "1)Addition of two numbers.\n",
        "\n",
        "2)Check a given number is odd or even.\n",
        "\n",
        "3)Check the number is prime or not.\n",
        "\n",
        "4)Largest of four numbers.\n",
        "\n",
        "5)Factorial of a number.\n",
        "\n",
        "6)Reversing a number.\n",
        "\n",
        "7)Weither the given string is palindrom or not.\n",
        "\n",
        "8)Find the sum of digits.\n",
        "\n",
        "9)Create a multiplication table.\n",
        "\n",
        "10)Simple calculator +,-,*,/.\n",
        "\n",
        "11)Right triangle patern."
      ],
      "metadata": {
        "id": "EWbmDR3yFW9d"
      }
    },
    {
      "cell_type": "code",
      "source": [
        "a =int(input(\"Enter the first number : \"))\n",
        "b =int(input(\"Enter the second number : \"))\n",
        "print(a+b)"
      ],
      "metadata": {
        "colab": {
          "base_uri": "https://localhost:8080/"
        },
        "id": "SK95BUqmHCnK",
        "outputId": "25a146d3-6486-43d9-f645-dce6834b72d8"
      },
      "execution_count": null,
      "outputs": [
        {
          "output_type": "stream",
          "name": "stdout",
          "text": [
            "Enter the first number : 4\n",
            "Enter the second number : 5\n",
            "9\n"
          ]
        }
      ]
    },
    {
      "cell_type": "code",
      "source": [
        "check=int(input(\"Enter the number : \"))\n",
        "if check%2==0:\n",
        "    print(\"Even\")\n",
        "else:\n",
        "    print(\"Odd\")"
      ],
      "metadata": {
        "colab": {
          "base_uri": "https://localhost:8080/"
        },
        "id": "h7w1NMuSHZPL",
        "outputId": "c58edbc1-d828-4ca1-eec4-793d437b4030"
      },
      "execution_count": null,
      "outputs": [
        {
          "output_type": "stream",
          "name": "stdout",
          "text": [
            "Enter the number : 8\n",
            "Even\n"
          ]
        }
      ]
    },
    {
      "cell_type": "code",
      "source": [
        "a=int(input(\"Enter a number : \"))\n",
        "count=0\n",
        "if a==2:\n",
        "  print(\"Prime\")\n",
        "for i in range(2,a):\n",
        "    if a%i==0:\n",
        "      count+=1\n",
        "if count==0:\n",
        "  print(\"Prime\")\n",
        "else:\n",
        "  print(\"Not Prime\")\n",
        "\n"
      ],
      "metadata": {
        "colab": {
          "base_uri": "https://localhost:8080/"
        },
        "id": "n4DaycHMHuQK",
        "outputId": "84eaba45-e8a8-477c-f9e3-ba136aa6b211"
      },
      "execution_count": null,
      "outputs": [
        {
          "output_type": "stream",
          "name": "stdout",
          "text": [
            "Enter a number : 2\n",
            "Prime\n",
            "Prime\n"
          ]
        }
      ]
    },
    {
      "cell_type": "code",
      "source": [
        "a=int(input(\"Enter the first number : \"))\n",
        "b=int(input(\"Enter the second number : \"))\n",
        "c=int(input(\"Enter the third number : \"))\n",
        "d=int(input(\"Enter the fourth number : \"))\n",
        "\n",
        "if(a>b and a>c and a>d):\n",
        "  print(a)\n",
        "elif(b>a and b>c and b>d):\n",
        "  print(b)\n",
        "elif(c>a and c>b and c>d):\n",
        "  print(c)\n",
        "else:\n",
        "  print(d)"
      ],
      "metadata": {
        "colab": {
          "base_uri": "https://localhost:8080/"
        },
        "id": "LReiCrY-JkKc",
        "outputId": "d0fcef1e-1be5-4602-e7c4-96b79addd8c2"
      },
      "execution_count": null,
      "outputs": [
        {
          "output_type": "stream",
          "name": "stdout",
          "text": [
            "Enter the first number : 4\n",
            "Enter the second number : 6\n",
            "Enter the third number : 5\n",
            "Enter the fourth number : 3\n",
            "6\n"
          ]
        }
      ]
    },
    {
      "cell_type": "code",
      "source": [
        "def factorial(a):\n",
        "  if a==0:\n",
        "    return 1\n",
        "  else:\n",
        "    return a*factorial(a-1)\n",
        "a=int(input(\"Enter the number : \"))\n",
        "print(factorial(a))"
      ],
      "metadata": {
        "colab": {
          "base_uri": "https://localhost:8080/"
        },
        "id": "MIOfrXytKf0P",
        "outputId": "9fc60dba-517b-4884-a0cc-caa11b8125a6"
      },
      "execution_count": null,
      "outputs": [
        {
          "output_type": "stream",
          "name": "stdout",
          "text": [
            "Enter the number : 5\n",
            "120\n"
          ]
        }
      ]
    },
    {
      "cell_type": "code",
      "source": [
        "a=input(\"Enter a number : \")\n",
        "print(a[::-1])"
      ],
      "metadata": {
        "id": "WOuEa6r7L_mi",
        "outputId": "ebc3c59b-748a-4387-dde0-caac9e55ddf8",
        "colab": {
          "base_uri": "https://localhost:8080/"
        }
      },
      "execution_count": null,
      "outputs": [
        {
          "output_type": "stream",
          "name": "stdout",
          "text": [
            "Enter a number : 12345\n",
            "54321\n"
          ]
        }
      ]
    },
    {
      "cell_type": "code",
      "source": [
        "s=input(\"Enter a string :\")\n",
        "if s==s[::-1]:\n",
        "  print(\"Palindrome\")\n",
        "else:\n",
        "  print(\"Not Palindrome\")"
      ],
      "metadata": {
        "id": "PKby9uONMTyi",
        "outputId": "bce63a84-b94b-4434-f25b-d7163c3d6ba9",
        "colab": {
          "base_uri": "https://localhost:8080/"
        }
      },
      "execution_count": null,
      "outputs": [
        {
          "output_type": "stream",
          "name": "stdout",
          "text": [
            "Enter a string :dog\n",
            "Not Palindrome\n"
          ]
        }
      ]
    },
    {
      "cell_type": "code",
      "source": [
        "def sum(a):\n",
        "  sum=0\n",
        "  for i in a:\n",
        "    sum+=int(i)\n",
        "  return sum\n",
        "a=input(\"Enter a number : \")\n",
        "print(sum(a))"
      ],
      "metadata": {
        "id": "Y8RPE3vQMwwy",
        "outputId": "b759cb6a-0ace-42e9-b30b-0be602a7062c",
        "colab": {
          "base_uri": "https://localhost:8080/"
        }
      },
      "execution_count": null,
      "outputs": [
        {
          "output_type": "stream",
          "name": "stdout",
          "text": [
            "Enter a number : 12345\n",
            "15\n"
          ]
        }
      ]
    },
    {
      "cell_type": "code",
      "source": [
        "def multiplication(a):\n",
        "  for i in range(1,11):\n",
        "    print(a,\"*\",i,\"=\",a*i)\n",
        "a=int(input(\"Enter a number : \"))\n",
        "multiplication(a)"
      ],
      "metadata": {
        "id": "AXSXTtEaNJhB",
        "outputId": "ae6f4fc0-25a8-4ba1-ef51-00315d3cdcb2",
        "colab": {
          "base_uri": "https://localhost:8080/"
        }
      },
      "execution_count": null,
      "outputs": [
        {
          "output_type": "stream",
          "name": "stdout",
          "text": [
            "Enter a number : 2\n",
            "2 * 1 = 2\n",
            "2 * 2 = 4\n",
            "2 * 3 = 6\n",
            "2 * 4 = 8\n",
            "2 * 5 = 10\n",
            "2 * 6 = 12\n",
            "2 * 7 = 14\n",
            "2 * 8 = 16\n",
            "2 * 9 = 18\n",
            "2 * 10 = 20\n"
          ]
        }
      ]
    },
    {
      "cell_type": "code",
      "source": [
        "a=int(input(\"Enter first number : \"))\n",
        "b=int(input(\"Enter second number : \"))\n",
        "\n",
        "operation=input(\"Enter the operation : \")\n",
        "if operation==\"+\":\n",
        "  print(a+b)\n",
        "elif operation==\"-\":\n",
        "  print(a-b)\n",
        "elif operation==\"*\":\n",
        "  print(a*b)\n",
        "elif operation==\"/\":\n",
        "  print(a/b)\n",
        "else:\n",
        "  print(\"Invalid\")"
      ],
      "metadata": {
        "id": "yU2WLAdfNrLy",
        "outputId": "0055cea6-0577-4d00-dc1b-7cb36a637320",
        "colab": {
          "base_uri": "https://localhost:8080/"
        }
      },
      "execution_count": null,
      "outputs": [
        {
          "output_type": "stream",
          "name": "stdout",
          "text": [
            "Enter first number : 2\n",
            "Enter second number : 5\n",
            "Enter the operation : +\n",
            "7\n"
          ]
        }
      ]
    },
    {
      "cell_type": "code",
      "source": [
        "a = int(input(\"Enter no.of rows : \"))\n",
        "for i in range(1,a+1):\n",
        "  for j in range(i):\n",
        "    print(\"*\",end=\"\")\n",
        "  print(\"\\n\")"
      ],
      "metadata": {
        "id": "iKJWzRSwOenO",
        "outputId": "fdfa1e1e-da51-4110-d96d-67c7600784c7",
        "colab": {
          "base_uri": "https://localhost:8080/"
        }
      },
      "execution_count": null,
      "outputs": [
        {
          "output_type": "stream",
          "name": "stdout",
          "text": [
            "Enter no.of rows : 10\n",
            "*\n",
            "\n",
            "**\n",
            "\n",
            "***\n",
            "\n",
            "****\n",
            "\n",
            "*****\n",
            "\n",
            "******\n",
            "\n",
            "*******\n",
            "\n",
            "********\n",
            "\n",
            "*********\n",
            "\n",
            "**********\n",
            "\n"
          ]
        }
      ]
    }
  ],
  "metadata": {
    "colab": {
      "provenance": []
    },
    "kernelspec": {
      "display_name": "Python 3",
      "name": "python3"
    }
  },
  "nbformat": 4,
  "nbformat_minor": 0
}